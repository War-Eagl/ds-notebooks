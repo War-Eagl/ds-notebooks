{
 "cells": [
  {
   "cell_type": "markdown",
   "metadata": {},
   "source": [
    "<h1><center><span style=\"font-family:Serif;\">Data Communication Networks Practice</span></center></h1>"
   ]
  },
  {
   "cell_type": "markdown",
   "metadata": {},
   "source": [
    "<h2><center><span style=\"font-family:Serif;\">Ex. 1 Introduction to Python</span></center></h2>\n",
    "\n",
    "##### Name: Vishal K\n",
    "##### Roll No.: ESD18I023\n",
    "\n",
    "<hr>"
   ]
  },
  {
   "cell_type": "markdown",
   "metadata": {},
   "source": [
    "##  <span style=\"font-family:Serif;\">Aim:\n",
    "&nbsp;&nbsp;&nbsp;&nbsp;&nbsp;&nbsp;<span style=\"font-family:Serif;fontSize:12pt;\"> To learn python programming language and get answer the excercise questions</span>"
   ]
  },
  {
   "cell_type": "markdown",
   "metadata": {},
   "source": [
    "## <span style=\"font-family:Serif;\">Apparatus Required:\n",
    " * <span style=\"font-family:Serif;\">Python 2.7.x\n",
    " *<span style=\"font-family:Serif;\"> Eclipse IDE with Pydev plugin"
   ]
  },
  {
   "cell_type": "markdown",
   "metadata": {},
   "source": [
    "## <span style=\"font-family:Serif;\">Code:"
   ]
  },
  {
   "cell_type": "markdown",
   "metadata": {},
   "source": [
    "#### <span style=\"font-family:Serif;\">Q1. Squaring every element of a list using for loop"
   ]
  },
  {
   "cell_type": "code",
   "execution_count": 1,
   "metadata": {},
   "outputs": [
    {
     "name": "stdout",
     "output_type": "stream",
     "text": [
      "[1, 4, 9, 16, 25]\n"
     ]
    }
   ],
   "source": [
    "a = [1,2,3,4,5]\n",
    "b=[]\n",
    "for i in a:\n",
    "    b.append(i**2)\n",
    "    b.sort()\n",
    "print(b)"
   ]
  },
  {
   "cell_type": "markdown",
   "metadata": {},
   "source": [
    "#### <span style=\"font-family:Serif;\">Q2. To check whether a list is empty or not"
   ]
  },
  {
   "cell_type": "code",
   "execution_count": 2,
   "metadata": {},
   "outputs": [
    {
     "name": "stdout",
     "output_type": "stream",
     "text": [
      "not empty\n",
      "empty_list\n"
     ]
    }
   ],
   "source": [
    "lst = [1,2,3,4,5]\n",
    "empty_list = []\n",
    "\n",
    "if not lst:\n",
    "    print(\"empty_list\")\n",
    "else:\n",
    "    print('not empty')\n",
    "\n",
    "if not empty_list:\n",
    "    print(\"empty_list\")\n",
    "else:\n",
    "    print('not empty')"
   ]
  },
  {
   "cell_type": "markdown",
   "metadata": {},
   "source": [
    "#### <span style=\"font-family:Serif;\"> Q3. Clinic Function"
   ]
  },
  {
   "cell_type": "code",
   "execution_count": 3,
   "metadata": {},
   "outputs": [
    {
     "name": "stdout",
     "output_type": "stream",
     "text": [
      "You've just entered the python!\n",
      "Are you interested to take Python Course now?\n"
     ]
    },
    {
     "name": "stdin",
     "output_type": "stream",
     "text": [
      "Type Yes or No and hit 'Enter'. \n"
     ]
    },
    {
     "name": "stdout",
     "output_type": "stream",
     "text": [
      "You didn't pick any option! Try again.\n",
      "You've just entered the python!\n",
      "Are you interested to take Python Course now?\n"
     ]
    },
    {
     "name": "stdin",
     "output_type": "stream",
     "text": [
      "Type Yes or No and hit 'Enter'. yes\n"
     ]
    },
    {
     "name": "stdout",
     "output_type": "stream",
     "text": [
      "Very good, I appreciate you\n"
     ]
    }
   ],
   "source": [
    "def clinic():\n",
    "    print(\"You've just entered the python!\")\n",
    "    print(\"Are you interested to take Python Course now?\")\n",
    "    answer = input(\"Type Yes or No and hit 'Enter'.\").lower()\n",
    "    if answer == \"yes\" or answer == \"y\":\n",
    "        print(\"Very good, I appreciate you\")\n",
    "    elif answer == \"no\" or answer == \"n\":\n",
    "        print(\"No Problem, You can Take Later!\")\n",
    "    else:\n",
    "        print(\"You didn't pick any option! Try again.\")\n",
    "        return clinic()\n",
    "\n",
    "clinic()"
   ]
  },
  {
   "cell_type": "markdown",
   "metadata": {},
   "source": [
    "#### <span style=\"font-family:Serif;\">Q4. Trip Calculator"
   ]
  },
  {
   "cell_type": "code",
   "execution_count": 4,
   "metadata": {
    "id": "iArPiEF1AkQE"
   },
   "outputs": [
    {
     "data": {
      "text/plain": [
       "1955"
      ]
     },
     "execution_count": 4,
     "metadata": {},
     "output_type": "execute_result"
    }
   ],
   "source": [
    "def hotel_cost(nights):\n",
    "    return 140 * nights\n",
    "\n",
    "def plane_ride_cost(city):\n",
    "    price = {'Charlotte':183,'Tampa':220,'Pittsburgh':222,'Los Angeles':475}\n",
    "    return price[city]\n",
    "\n",
    "def rent_car_cost(days):\n",
    "    if days >= 7:\n",
    "        return 40*days -50\n",
    "    elif days >= 3:\n",
    "        return 40*days - 20\n",
    "    else:\n",
    "        return 40 * days\n",
    "\n",
    "def trip_cost(days,city,spending_money):\n",
    "    return hotel_cost(days) + rent_car_cost(days) + plane_ride_cost(city) + spending_money\n",
    "\n",
    "trip_cost(5,'Los Angeles', 600)"
   ]
  },
  {
   "source": [
    "### Q5. Booleans"
   ],
   "cell_type": "markdown",
   "metadata": {}
  },
  {
   "cell_type": "code",
   "execution_count": 2,
   "metadata": {},
   "outputs": [
    {
     "output_type": "stream",
     "name": "stdout",
     "text": [
      "False\nTrue\nTrue\nTrue\nFalse\n"
     ]
    }
   ],
   "source": [
    "Bool_one = False or not True and True\n",
    "Bool_two = False and not True or True\n",
    "Bool_three = True and not(False or False)\n",
    "Bool_four = not not True or False and not True\n",
    "Bool_five = False or not (True and True)\n",
    "print Bool_one\n",
    "print Bool_two\n",
    "print Bool_three\n",
    "print Bool_four\n",
    "print Bool_five"
   ]
  },
  {
   "cell_type": "markdown",
   "metadata": {},
   "source": [
    "## <span style=\"font-family:Serif;\">Results:\n",
    "\n",
    "&nbsp;&nbsp;&nbsp;&nbsp;&nbsp;&nbsp;<span style=\"font-family:Serif;\">The python programming language is learnt and all the excercise questions are answered."
   ]
  }
 ],
 "metadata": {
  "colab": {
   "authorship_tag": "ABX9TyNpFPHPdTZswcG8UYHoHPXB",
   "name": "Ex1-5/01/2021.ipynb",
   "provenance": []
  },
  "kernelspec": {
   "display_name": "Python 2",
   "language": "python",
   "name": "python2"
  },
  "language_info": {
   "codemirror_mode": {
    "name": "ipython",
    "version": 3
   },
   "file_extension": ".py",
   "mimetype": "text/x-python",
   "name": "python",
   "nbconvert_exporter": "python",
   "pygments_lexer": "ipython3",
   "version": "2.7.18-final"
  }
 },
 "nbformat": 4,
 "nbformat_minor": 4
}